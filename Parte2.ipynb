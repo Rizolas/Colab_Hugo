{
  "nbformat": 4,
  "nbformat_minor": 0,
  "metadata": {
    "colab": {
      "provenance": []
    },
    "kernelspec": {
      "name": "python3",
      "display_name": "Python 3"
    },
    "language_info": {
      "name": "python"
    }
  },
  "cells": [
    {
      "cell_type": "code",
      "metadata": {
        "colab": {
          "base_uri": "https://localhost:8080/"
        },
        "id": "85ee1844",
        "outputId": "77978596-2f16-4ae7-e44c-6ea0bc341ca2"
      },
      "source": [
        "import sqlite3\n",
        "import pandas as pd\n",
        "import os\n",
        "\n",
        "db_path = \"alumnos.db\"\n",
        "\n",
        "def crear_tabla(conn):\n",
        "    cur = conn.cursor()\n",
        "    cur.execute(\"\"\"\n",
        "    CREATE TABLE IF NOT EXISTS alumnos (\n",
        "        id INTEGER PRIMARY KEY AUTOINCREMENT,\n",
        "        nombre TEXT,\n",
        "        edad INTEGER,\n",
        "        carrera TEXT,\n",
        "        UNIQUE(nombre, edad, carrera)\n",
        "    );\n",
        "    \"\"\")\n",
        "    conn.commit()\n",
        "\n",
        "def ag(conn, datos):\n",
        "    cur = conn.cursor()\n",
        "    cur.executemany(\n",
        "        \"INSERT OR IGNORE INTO alumnos (nombre, edad, carrera) VALUES (?, ?, ?);\",\n",
        "        datos\n",
        "    )\n",
        "    conn.commit()\n",
        "\n",
        "def mal(conn):\n",
        "    df = pd.read_sql_query(\"SELECT * FROM alumnos;\", conn)\n",
        "    print(df)\n",
        "\n",
        "if __name__ == \"__main__\":\n",
        "\n",
        "    conn = sqlite3.connect(db_path)\n",
        "    crear_tabla(conn)\n",
        "    datos = [\n",
        "        (\"Yuren Benitez\", 17, \"CDIA\"),\n",
        "        (\"Joseph Lemus\", 17, \"CDIA\"),\n",
        "        (\"Gael Alegria\", 17, \"CDIA\"),\n",
        "    ]\n",
        "\n",
        "    ag(conn, datos)\n",
        "    mal(conn)\n",
        "\n",
        "    conn.close()"
      ],
      "execution_count": 19,
      "outputs": [
        {
          "output_type": "stream",
          "name": "stdout",
          "text": [
            "   id         nombre  edad carrera\n",
            "0   2   Joseph Lemus    17    CDIA\n",
            "1   3   Gael Alegria    17    CDIA\n",
            "2  16  Yuren Benitez    17    CDIA\n"
          ]
        }
      ]
    },
    {
      "cell_type": "code",
      "source": [
        "def mal(conn):\n",
        "    df = pd.read_sql_query(\"SELECT * FROM alumnos;\", conn)\n",
        "    print(df)\n",
        "\n",
        "if __name__ == \"__main__\":\n",
        "\n",
        "    conn = sqlite3.connect(db_path)\n",
        "    crear_tabla(conn)\n",
        "\n",
        "    mal(conn)\n",
        "\n",
        "    conn.close()\n"
      ],
      "metadata": {
        "colab": {
          "base_uri": "https://localhost:8080/"
        },
        "id": "stS7rb3CN70c",
        "outputId": "8b6f48c8-691e-4121-a6a9-041733585ca6"
      },
      "execution_count": 18,
      "outputs": [
        {
          "output_type": "stream",
          "name": "stdout",
          "text": [
            "   id        nombre  edad carrera\n",
            "0   2  Joseph Lemus    17    CDIA\n",
            "1   3  Gael Alegria    17    CDIA\n"
          ]
        }
      ]
    },
    {
      "cell_type": "code",
      "source": [],
      "metadata": {
        "id": "JYgNb_COPtwS"
      },
      "execution_count": null,
      "outputs": []
    }
  ]
}