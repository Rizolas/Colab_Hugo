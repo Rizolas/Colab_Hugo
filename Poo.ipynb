{
  "nbformat": 4,
  "nbformat_minor": 0,
  "metadata": {
    "colab": {
      "provenance": []
    },
    "kernelspec": {
      "name": "python3",
      "display_name": "Python 3"
    },
    "language_info": {
      "name": "python"
    }
  },
  "cells": [
    {
      "cell_type": "code",
      "execution_count": null,
      "metadata": {
        "id": "6L8hdkh7uT6g"
      },
      "outputs": [],
      "source": [
        "class alumno():\n",
        "  no = \"Juan Carlos Bodoque\"\n",
        "  ed = 15\n",
        "  p = 72\n",
        "  pro = 8\n",
        "\n",
        "  def inscripcion(self):\n",
        "    print(\"El alumno:\", self.no, \"de\", self.ed, \"con promedio de\", self.pro)\n",
        "    print(\"Esta inscrito\")\n",
        "\n",
        "ins = alumno()\n",
        "ins.inscripcion()"
      ]
    },
    {
      "cell_type": "code",
      "source": [
        "class alumno():\n",
        "  no = \"Tulio Triviño\"\n",
        "  ed = 16\n",
        "  p = 67\n",
        "  pro = 5\n",
        "\n",
        "  def asesorias(self):\n",
        "    print(\"El alumno:\", self.no, \"de\", self.ed, \"con promedio de\", self.pro)\n",
        "    print(\"Esta en asesorias\")\n",
        "\n",
        "ins = alumno()\n",
        "ins.asesorias()"
      ],
      "metadata": {
        "colab": {
          "base_uri": "https://localhost:8080/"
        },
        "id": "ACkr0tCr2bxr",
        "outputId": "82fcd330-c9a0-4140-dd76-3829d7b6b4d0"
      },
      "execution_count": 20,
      "outputs": [
        {
          "output_type": "stream",
          "name": "stdout",
          "text": [
            "El alumno: Tulio Triviño de 16 con promedio de 5\n",
            "Esta en asesorias\n"
          ]
        }
      ]
    }
  ]
}