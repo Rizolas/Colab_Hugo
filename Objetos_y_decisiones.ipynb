{
  "nbformat": 4,
  "nbformat_minor": 0,
  "metadata": {
    "colab": {
      "provenance": []
    },
    "kernelspec": {
      "name": "python3",
      "display_name": "Python 3"
    },
    "language_info": {
      "name": "python"
    }
  },
  "cells": [
    {
      "cell_type": "code",
      "source": [
        "class calif():\n",
        "\n",
        "  def datos (self):\n",
        "    self.n = [\"Tulio Triviño\", \"Juan Carlos Bosoque\", \"Mario Hugo\", \"Juanin Juan\", \"Ramon Valdez\", \"Ruben Fuentes\", \"Florinda Mesa\", \"Carlos Villagrán\", \"Maria Antonieta\", \"Billy\"]\n",
        "    self.c = [10, 9, 8, 7, 7, 9.8, 9.3, 5, 6.3, 10]\n",
        "\n",
        "  def pr (self):\n",
        "    return (sum(self.c)/len(self.c))\n",
        "\n",
        "  def re (self):\n",
        "    self.datos()\n",
        "    p = self.pr()\n",
        "    print (\"El promedio de calificaciones es: \", p)\n",
        "    print (\"Alumnos que sacaron arriba de 9.5:\")\n",
        "    for i in range(len(self.c)):\n",
        "      if self.c[i] > 9.5:\n",
        "        print(self.n[i])\n",
        "\n",
        "\n",
        "cl = calif()\n",
        "cl.re()\n",
        "\n",
        ""
      ],
      "metadata": {
        "colab": {
          "base_uri": "https://localhost:8080/"
        },
        "id": "e1-EC-bf5W4S",
        "outputId": "ae947b6c-6644-43e1-972e-2baec849fb84"
      },
      "execution_count": 14,
      "outputs": [
        {
          "output_type": "stream",
          "name": "stdout",
          "text": [
            "El promedio de calificaciones es:  8.139999999999999\n",
            "Alumnos que sacaron arriba de 9.5:\n",
            "Tulio Triviño\n",
            "Ruben Fuentes\n",
            "Billy\n"
          ]
        }
      ]
    },
    {
      "cell_type": "code",
      "source": [],
      "metadata": {
        "id": "IpwSnvdF8GhC"
      },
      "execution_count": null,
      "outputs": []
    }
  ]
}