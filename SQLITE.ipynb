{
  "nbformat": 4,
  "nbformat_minor": 0,
  "metadata": {
    "colab": {
      "provenance": []
    },
    "kernelspec": {
      "name": "python3",
      "display_name": "Python 3"
    },
    "language_info": {
      "name": "python"
    }
  },
  "cells": [
    {
      "cell_type": "code",
      "execution_count": 3,
      "metadata": {
        "colab": {
          "base_uri": "https://localhost:8080/"
        },
        "id": "NjehGtRk6C02",
        "outputId": "a007d586-58cf-47d1-a191-fa3d0b7f7140"
      },
      "outputs": [
        {
          "output_type": "stream",
          "name": "stdout",
          "text": [
            "   id            Nombre  Edad Carrera\n",
            "0   1    Carlos Bonilla    17    CDIA\n",
            "1   2   Oliver Carrillo    17    CDIA\n",
            "2   3  Moises Ceniceros    17    CDIA\n"
          ]
        }
      ],
      "source": [
        "import sqlite3\n",
        "import pandas as pd\n",
        "\n",
        "db_path = \"alumnos.db\"\n",
        "conn = sqlite3.connect(db_path)\n",
        "cursor = conn.cursor()\n",
        "\n",
        "cursor.execute(\"\"\"\n",
        "CREATE TABLE IF NOT EXISTS alumnos (\n",
        "  id INTEGER PRIMARY KEY AUTOINCREMENT,\n",
        "  Nombre TEXT,\n",
        "  Edad INTEGER,\n",
        "  Carrera TEXT,\n",
        "  UNIQUE(Nombre, Edad, Carrera) :)\n",
        ")\n",
        "\"\"\")\n",
        "\n",
        "alumnos = [\n",
        "    (\"Carlos Bonilla\", 17, \"CDIA\"),\n",
        "    (\"Oliver Carrillo\", 17, \"CDIA\"),\n",
        "    (\"Moises Ceniceros\", 17, \"CDIA\"),\n",
        "\n",
        "]\n",
        "cursor.executemany(\"INSERT OR IGNORE INTO alumnos (nombre, edad, carrera) VALUES (?, ?, ?)\", alumnos)\n",
        "conn.commit()\n",
        "\n",
        "df = pd.read_sql_query(\"SELECT * from ALUMNOS\", conn)\n",
        "print(df)\n",
        "\n",
        "conn.close()"
      ]
    },
    {
      "cell_type": "code",
      "source": [],
      "metadata": {
        "id": "M0z3sHqg6E7h"
      },
      "execution_count": 2,
      "outputs": []
    }
  ]
}