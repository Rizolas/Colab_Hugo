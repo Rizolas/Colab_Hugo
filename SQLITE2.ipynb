{
  "nbformat": 4,
  "nbformat_minor": 0,
  "metadata": {
    "colab": {
      "provenance": []
    },
    "kernelspec": {
      "name": "python3",
      "display_name": "Python 3"
    },
    "language_info": {
      "name": "python"
    }
  },
  "cells": [
    {
      "cell_type": "code",
      "source": [
        "import sqlite3\n",
        "import pandas as pd\n",
        "import os\n",
        "\n",
        "db_path = \"alumnos.db\"\n",
        "\n",
        "def crear_tabla(conn):\n",
        "    cur = conn.cursor()\n",
        "    cur.execute(\"\"\"\n",
        "    CREATE TABLE IF NOT EXISTS alumnos (\n",
        "        id INTEGER PRIMARY KEY AUTOINCREMENT,\n",
        "        nombre TEXT,\n",
        "        edad INTEGER,\n",
        "        carrera TEXT,\n",
        "        UNIQUE(nombre, edad, carrera)  -- evita duplicados exactos\n",
        "    );\n",
        "    \"\"\")\n",
        "    conn.commit()\n",
        "\n",
        "def ag(conn, datos):\n",
        "    cur = conn.cursor()\n",
        "    cur.executemany(\n",
        "        \"INSERT OR IGNORE INTO alumnos (nombre, edad, carrera) VALUES (?, ?, ?);\",\n",
        "        datos\n",
        "    )\n",
        "    conn.commit()\n",
        "\n",
        "def mal(conn):\n",
        "    df = pd.read_sql_query(\"SELECT * FROM alumnos;\", conn)\n",
        "    print(df)\n",
        "\n",
        "if __name__ == \"__main__\":\n",
        "\n",
        "    conn = sqlite3.connect(db_path)\n",
        "    crear_tabla(conn)\n",
        "    datos = [\n",
        "        (\"Carlos Bonilla\", 17, \"CDIA\"),\n",
        "        (\"Oliver Carrillo\", 17, \"CDIA\"),\n",
        "        (\"Moises Ceniceros\", 17, \"CDIA\"),\n",
        "    ]\n",
        "\n",
        "    ag(conn, datos)\n",
        "    mal(conn)\n",
        "\n",
        "    conn.close()\n"
      ],
      "metadata": {
        "id": "M0z3sHqg6E7h"
      },
      "execution_count": 8,
      "outputs": []
    },
    {
      "cell_type": "code",
      "source": [],
      "metadata": {
        "id": "iBoaszyjhE4n"
      },
      "execution_count": null,
      "outputs": []
    }
  ]
}