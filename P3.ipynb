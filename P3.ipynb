{
  "nbformat": 4,
  "nbformat_minor": 0,
  "metadata": {
    "colab": {
      "provenance": []
    },
    "kernelspec": {
      "name": "python3",
      "display_name": "Python 3"
    },
    "language_info": {
      "name": "python"
    }
  },
  "cells": [
    {
      "cell_type": "code",
      "execution_count": null,
      "metadata": {
        "id": "LuAImsHmWJ74"
      },
      "outputs": [],
      "source": [
        "class area():\n",
        "\n",
        "  def datos (self):\n",
        "    self.h = float(input())\n",
        "    self.b = float(input())\n",
        "\n",
        "  def area_triangulo(self):\n",
        "    return (self.h * self.b)/2\n",
        "\n",
        "  def pro (self):\n",
        "    self.datos()\n",
        "    A = self.area_triangulo()\n",
        "    print(f\"El area del triangulo es: {A}\")\n",
        "\n",
        "ar = area()\n",
        "ar.pro()"
      ]
    },
    {
      "cell_type": "code",
      "source": [],
      "metadata": {
        "id": "LwWmRx8rhuae"
      },
      "execution_count": null,
      "outputs": []
    }
  ]
}