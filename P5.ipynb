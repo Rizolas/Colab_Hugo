{
  "nbformat": 4,
  "nbformat_minor": 0,
  "metadata": {
    "colab": {
      "provenance": []
    },
    "kernelspec": {
      "name": "python3",
      "display_name": "Python 3"
    },
    "language_info": {
      "name": "python"
    }
  },
  "cells": [
    {
      "cell_type": "code",
      "execution_count": 29,
      "metadata": {
        "colab": {
          "base_uri": "https://localhost:8080/"
        },
        "id": "uw9a5JeId51l",
        "outputId": "9bc5bbf4-9706-4814-a233-d62fefc2ea5a"
      },
      "outputs": [
        {
          "output_type": "stream",
          "name": "stdout",
          "text": [
            "{'Nombre': 'Hugo', 'Edad': 17, 'Matricula': 231690363, 'Peso': 85, 'Carrera': 'CDIA', 'Telefono': 3112505296, 'Domicilio': 'Colonia Agronomos'}\n",
            "Nombre Hugo\n",
            "Edad 17\n",
            "Matricula 231690363\n",
            "Peso 85\n",
            "Carrera CDIA\n",
            "Telefono 3112505296\n",
            "Domicilio Colonia Agronomos\n",
            "El alumno Hugo es un para parangaricutirimícuaro\n",
            "El es de la carrera CDIA cuida que no se parangaricutirimicuarise\n"
          ]
        }
      ],
      "source": [
        "d1 = {\n",
        "    \"Nombre\": \"Hugo\",\n",
        "    \"Edad\": 17,\n",
        "    \"Matricula\": 231690372-9,\n",
        "    \"Peso\": 85,\n",
        "    \"Carrera\": \"CDIA\",\n",
        "    \"Telefono\": 3112505296,\n",
        "    \"Domicilio\": \"Colonia Agronomos\"\n",
        "\n",
        "}\n",
        "\n",
        "print(d1)\n",
        "for x in d1:\n",
        "    print(x,d1[x])\n",
        "\n",
        "print(\"El alumno\",d1[\"Nombre\"], \"es un para parangaricutirimícuaro\")\n",
        "print(\"El es de la carrera\", d1['Carrera'], \"cuida que no se parangaricutirimicuarise\")"
      ]
    },
    {
      "cell_type": "code",
      "source": [],
      "metadata": {
        "id": "HICJLFZ0faaf"
      },
      "execution_count": null,
      "outputs": []
    }
  ]
}