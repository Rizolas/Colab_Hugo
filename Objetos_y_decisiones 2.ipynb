{
  "nbformat": 4,
  "nbformat_minor": 0,
  "metadata": {
    "colab": {
      "provenance": []
    },
    "kernelspec": {
      "name": "python3",
      "display_name": "Python 3"
    },
    "language_info": {
      "name": "python"
    }
  },
  "cells": [
    {
      "cell_type": "code",
      "source": [
        "class calif():\n",
        "\n",
        "  def datos(self):\n",
        "    self.n = 3\n",
        "    self.nom = []\n",
        "    self.c = []\n",
        "    for i in range(self.n):\n",
        "      nombre = input(f\"Nombre del alumno: \")\n",
        "      self.nom.append(nombre)\n",
        "      calif = float(input(f\"Calificacion:\"))\n",
        "      self.c.append(calif)\n",
        "\n",
        "  def pr(self):\n",
        "    if self.nom:\n",
        "      return (sum(self.c)/len(self.c))\n",
        "    else:\n",
        "      return 0\n",
        "\n",
        "  def re(self):\n",
        "    self.datos()\n",
        "    p = self.pr()\n",
        "    print (\"El promedio de calificaciones es: \", p)\n",
        "    print (\"Alumnos que sacaron arriba de 9.5:\")\n",
        "    for i in range(self.n):\n",
        "      if self.c[i] > 9.5:\n",
        "        print(self.nom[i])\n",
        "\n",
        "\n",
        "cl = calif()\n",
        "cl.re()"
      ],
      "metadata": {
        "colab": {
          "base_uri": "https://localhost:8080/"
        },
        "id": "e1-EC-bf5W4S",
        "outputId": "df846410-84dd-4a40-ab97-1216d21ea1aa"
      },
      "execution_count": 26,
      "outputs": [
        {
          "output_type": "stream",
          "name": "stdout",
          "text": [
            "Nombre del alumno: Hugo\n",
            "Calificacion:8\n",
            "Nombre del alumno: Fany\n",
            "Calificacion:10\n",
            "Nombre del alumno: Carlos 9\n",
            "Calificacion:9\n",
            "El promedio de calificaciones es:  9.0\n",
            "Alumnos que sacaron arriba de 9.5:\n",
            "Fany\n"
          ]
        }
      ]
    },
    {
      "cell_type": "code",
      "source": [],
      "metadata": {
        "id": "QKJ5IGfxUu7Z"
      },
      "execution_count": null,
      "outputs": []
    }
  ]
}