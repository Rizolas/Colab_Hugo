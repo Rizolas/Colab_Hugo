{
  "nbformat": 4,
  "nbformat_minor": 0,
  "metadata": {
    "colab": {
      "provenance": []
    },
    "kernelspec": {
      "name": "python3",
      "display_name": "Python 3"
    },
    "language_info": {
      "name": "python"
    }
  },
  "cells": [
    {
      "cell_type": "code",
      "execution_count": 8,
      "metadata": {
        "colab": {
          "base_uri": "https://localhost:8080/"
        },
        "id": "6tFssxt-msut",
        "outputId": "52b6d1a0-73e5-448b-99dd-829bef253022"
      },
      "outputs": [
        {
          "output_type": "stream",
          "name": "stdout",
          "text": [
            "Los datos estan en fahrenheit\n",
            "Convirtiendolo a Celsius\n",
            "26.666666666666668\n",
            "22.22222222222222\n",
            "35.0\n",
            "27.77777777777778\n",
            "26.11111111111111\n",
            "22.22222222222222\n",
            "29.444444444444443\n"
          ]
        }
      ],
      "source": [
        "class d():\n",
        "  def datos(self):\n",
        "    self.temp= [80, 72, 95, 82, 79, 72, 85]\n",
        "    print(\"Los datos estan en fahrenheit\")\n",
        "\n",
        "  def camb(self):\n",
        "    self.datos()\n",
        "    print(\"Convirtiendolo a Celsius\")\n",
        "    for tf in self.temp:\n",
        "      c = (tf - 32) * 5.0/9.0\n",
        "      print(c)\n",
        "\n",
        "cl = d()\n",
        "cl.camb()"
      ]
    },
    {
      "cell_type": "code",
      "source": [],
      "metadata": {
        "id": "92AbsejjoPCf"
      },
      "execution_count": null,
      "outputs": []
    }
  ]
}